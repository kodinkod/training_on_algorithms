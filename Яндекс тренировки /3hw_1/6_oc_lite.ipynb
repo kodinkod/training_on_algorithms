{
 "cells": [
  {
   "cell_type": "markdown",
   "metadata": {},
   "source": [
    "Васин жесткий диск состоит из M секторов. Вася последовательно устанавливал на него различные операционные системы следующим методом: он создавал новый раздел диска из последовательных секторов, начиная с сектора номер ai и до сектора bi включительно, и устанавливал на него очередную систему. При этом, если очередной раздел хотя бы по одному сектору пересекается с каким-то ранее созданным разделом, то ранее созданный раздел «затирается», и операционная система, которая на него была установлена, больше не может быть загружена.\n",
    "Напишите программу, которая по информации о том, какие разделы на диске создавал Вася, определит, сколько в итоге работоспособных операционных систем установлено и работает в настоящий момент на Васином компьютере.\n"
   ]
  },
  {
   "cell_type": "code",
   "execution_count": 43,
   "metadata": {},
   "outputs": [
    {
     "name": "stdout",
     "output_type": "stream",
     "text": [
      "2\n"
     ]
    }
   ],
   "source": [
    "M = 10 #int(input())\n",
    "N = 2 #int(input())\n",
    "stack = []\n",
    "for i in range(N):\n",
    "    mas = list(map(int, input().split()))\n",
    "    s = mas[0]\n",
    "    e = mas[1]\n",
    "    if len(stack)==0:\n",
    "        stack.append((s,e))\n",
    "    else:\n",
    "        # поиск \n",
    "        new_stack = stack.copy()\n",
    "        for item in stack:\n",
    "            b_cur, e_cur = item\n",
    "            if b_cur<=e and e<=e_cur or\\\n",
    "               b_cur<=s and s<=e_cur or\\\n",
    "               s<=b_cur and e>=e_cur:\n",
    "                   new_stack.remove(item)\n",
    "        new_stack.append((s,e))\n",
    "        stack = new_stack.copy()\n",
    "\n",
    "print(len(stack))"
   ]
  },
  {
   "cell_type": "code",
   "execution_count": null,
   "metadata": {},
   "outputs": [],
   "source": []
  }
 ],
 "metadata": {
  "kernelspec": {
   "display_name": "Python 3",
   "language": "python",
   "name": "python3"
  },
  "language_info": {
   "codemirror_mode": {
    "name": "ipython",
    "version": 3
   },
   "file_extension": ".py",
   "mimetype": "text/x-python",
   "name": "python",
   "nbconvert_exporter": "python",
   "pygments_lexer": "ipython3",
   "version": "3.8.13"
  },
  "orig_nbformat": 4
 },
 "nbformat": 4,
 "nbformat_minor": 2
}
