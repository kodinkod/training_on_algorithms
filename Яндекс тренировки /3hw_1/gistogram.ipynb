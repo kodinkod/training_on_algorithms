{
 "cells": [
  {
   "attachments": {},
   "cell_type": "markdown",
   "metadata": {},
   "source": [
    "Вовочка ломает систему безопасности Пентагона. Для этого ему понадобилось узнать, какие символы в секретных зашифрованных посланиях употребляются чаще других. Для удобства изучения Вовочка хочет получить графическое представление встречаемости символов. Поэтому он хочет построить гистограмму количества символов в сообщении. Гистограмма — это график, в котором каждому символу, встречающемуся в сообщении хотя бы один раз, соответствует столбик, высота которого пропорциональна количеству этих символов в сообщении."
   ]
  },
  {
   "cell_type": "code",
   "execution_count": 24,
   "metadata": {},
   "outputs": [],
   "source": [
    "s_in = input().replace(\" \", \"\").replace('\\n','')"
   ]
  },
  {
   "cell_type": "code",
   "execution_count": 27,
   "metadata": {},
   "outputs": [
    {
     "name": "stdout",
     "output_type": "stream",
     "text": [
      "{'h': 1, 'e': 1, 'l': 3, 'o': 2, ',': 1, 'w': 1, 'r': 1, 'd': 1, '!': 1}\n",
      "['!', ',', 'd', 'e', 'h', 'l', 'o', 'r', 'w']\n"
     ]
    }
   ],
   "source": [
    "res = {}\n",
    "for alpha in s_in:\n",
    "    res.setdefault(alpha, 0)\n",
    "    res[alpha]+=1\n",
    "\n",
    "mx = max(res.values())\n",
    "unic = sorted(res.keys())\n",
    "print(res)\n",
    "print(unic)"
   ]
  },
  {
   "cell_type": "code",
   "execution_count": 53,
   "metadata": {},
   "outputs": [
    {
     "name": "stdout",
     "output_type": "stream",
     "text": [
      "     #   \n",
      "     ##  \n",
      "#########\n",
      "!,dehlorw\n"
     ]
    }
   ],
   "source": [
    "\n",
    "for i in range(mx,0,-1):\n",
    "    for alpha in unic:\n",
    "        if res[alpha] >= i:\n",
    "            print('#', end='')\n",
    "        else:\n",
    "            print(\" \", end=\"\")\n",
    "    print()\n",
    "print(''.join(unic))\n",
    "         "
   ]
  },
  {
   "attachments": {},
   "cell_type": "markdown",
   "metadata": {},
   "source": [
    "## Result"
   ]
  },
  {
   "cell_type": "code",
   "execution_count": 13,
   "metadata": {},
   "outputs": [
    {
     "name": "stdout",
     "output_type": "stream",
     "text": [
      "\n",
      "                              #           \n",
      "                     #        #           \n",
      "                     #        #           \n",
      "                     #        #           \n",
      "                     #        #           \n",
      "                     #   #    #  #        \n",
      "                     #   #    #  #        \n",
      "                  #  #   #    #  #        \n",
      "   ##             #  #   #    #  #        \n",
      "   ##             #  #   #    #  #        \n",
      "   ##             #  #   #    # ###       \n",
      "#  ##             #  #   #    # ###       \n",
      "#  ##             #  #   #    # ###       \n",
      "# ###       #     #  #   #  # # ###       \n",
      "# ###       #     #  #   #  # # ####      \n",
      "# ### #     #     #  #   #  # # ####      \n",
      "# ### #     #     #  #   #  # # ####      \n",
      "# ### # #   #     # ##   #  # # #####     \n",
      "# ### # #  ##     ##### ##  # #######     \n",
      "# ### # #  ##     ##### ##  # #######     \n",
      "# ### # #  ##  #  ##### ##  ######### #   \n",
      "# ### # ##### ######### ##  ######### #   \n",
      "##########################################\n",
      "\"#'()+,-.01:=>[\\]_acdefghijklmnoprstuvxy{}\n"
     ]
    }
   ],
   "source": [
    "s_in = input().replace(\" \", \"\").replace('\\n','')\n",
    "\n",
    "\n",
    "res = {}\n",
    "for alpha in s_in:\n",
    "    res.setdefault(alpha, 0)\n",
    "    res[alpha]+=1\n",
    "\n",
    "mx = max(res.values())\n",
    "unic = sorted(res.keys())\n",
    "\n",
    "print()\n",
    "for i in range(mx,0,-1):\n",
    "    for alpha in unic:\n",
    "        if res[alpha] >= i:\n",
    "            print('#', end='')\n",
    "        else:\n",
    "            print(' ', end='')\n",
    "    print()\n",
    "print(''.join(unic), end='\\n')"
   ]
  }
 ],
 "metadata": {
  "kernelspec": {
   "display_name": "Python 3",
   "language": "python",
   "name": "python3"
  },
  "language_info": {
   "codemirror_mode": {
    "name": "ipython",
    "version": 3
   },
   "file_extension": ".py",
   "mimetype": "text/x-python",
   "name": "python",
   "nbconvert_exporter": "python",
   "pygments_lexer": "ipython3",
   "version": "3.11.1"
  },
  "orig_nbformat": 4
 },
 "nbformat": 4,
 "nbformat_minor": 2
}
