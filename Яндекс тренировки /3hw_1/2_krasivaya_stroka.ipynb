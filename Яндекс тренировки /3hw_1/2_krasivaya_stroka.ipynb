{
 "cells": [
  {
   "attachments": {},
   "cell_type": "markdown",
   "metadata": {},
   "source": [
    "Красотой строки назовем максимальное число идущих подряд одинаковых букв. (красота строки abcaabdddettq равна 3)\n",
    "Сделайте данную вам строку как можно более красивой, если вы можете сделать не более k операций замены символа.\n"
   ]
  },
  {
   "cell_type": "code",
   "execution_count": 99,
   "metadata": {},
   "outputs": [],
   "source": [
    "k = 2 \n",
    "st_in = \"abcaz\"\n",
    "alphas = 'abcdefghijklmnopqrstuvwxyz'"
   ]
  },
  {
   "cell_type": "code",
   "execution_count": 132,
   "metadata": {},
   "outputs": [],
   "source": [
    "mx = -1\n",
    "for alpha in alphas:\n",
    "    j = 0\n",
    "    k_t = k\n",
    "    for i in range(len(st_in)):                     # left point\n",
    "        while (j < len(st_in)) and (k_t >= 0):      # right point\n",
    "            if st_in[j] != alpha:\n",
    "                k_t-=1\n",
    "            j+=1\n",
    "        \n",
    "        if  k_t < 0:   \n",
    "            j-=1                 # шаг назад, где остановился правый указатель \n",
    "            k_t=0                # сбрасываем в 0;\n",
    "        \n",
    "        # считаем красоту\n",
    "        if j-i > mx:\n",
    "            mx=j-i\n",
    "        if j ==len(st_in):\n",
    "            break \n",
    "        # нужно двигаться по i     \n",
    "        # если с a->  то ничего не менятес\n",
    "        # если с b->  то открывается еще один  k_t+=1\n",
    "        if st_in[i] != alpha:\n",
    "            k_t+=1"
   ]
  },
  {
   "cell_type": "code",
   "execution_count": 133,
   "metadata": {},
   "outputs": [
    {
     "data": {
      "text/plain": [
       "4"
      ]
     },
     "execution_count": 133,
     "metadata": {},
     "output_type": "execute_result"
    }
   ],
   "source": [
    "mx"
   ]
  },
  {
   "cell_type": "code",
   "execution_count": 129,
   "metadata": {},
   "outputs": [
    {
     "name": "stdout",
     "output_type": "stream",
     "text": [
      "4\n"
     ]
    }
   ],
   "source": [
    "mx = -1\n",
    "for alpha in alphas:\n",
    "    j = 0\n",
    "    k_t = k\n",
    "    for i in range(len(st_in)):                     # left point\n",
    "        while (j < len(st_in)) and (k_t >= 0):      # right point\n",
    "            if st_in[j] != alpha:\n",
    "                k_t-=1\n",
    "            j+=1\n",
    "            \n",
    "        # считаем красоту\n",
    "        if j == len(st_in) and k_t >= 0:\n",
    "            if j-i  > mx: mx = j-i \n",
    "            break\n",
    "        else:\n",
    "            if j-i-1 > mx: mx = j-i-1\n",
    "            if st_in[i] != alpha:\n",
    "                k_t+=1\n",
    "            \n",
    "        # нужно двигаться по i     \n",
    "        # если с a->  то ничего не менятес\n",
    "        # если с b->  то открывается еще один  k_t+=1\n",
    "        \n",
    "print(mx)"
   ]
  }
 ],
 "metadata": {
  "kernelspec": {
   "display_name": "Python 3",
   "language": "python",
   "name": "python3"
  },
  "language_info": {
   "codemirror_mode": {
    "name": "ipython",
    "version": 3
   },
   "file_extension": ".py",
   "mimetype": "text/x-python",
   "name": "python",
   "nbconvert_exporter": "python",
   "pygments_lexer": "ipython3",
   "version": "3.11.1"
  },
  "orig_nbformat": 4
 },
 "nbformat": 4,
 "nbformat_minor": 2
}
