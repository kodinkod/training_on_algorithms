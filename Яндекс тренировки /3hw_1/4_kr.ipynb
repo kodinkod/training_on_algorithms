{
 "cells": [
  {
   "cell_type": "code",
   "execution_count": 69,
   "metadata": {},
   "outputs": [],
   "source": [
    "N = 1000000000 #int(input())            #peoplse\n",
    "v = 400000000 #int(input())            #variants\n",
    "row_p = 300000000 #int(input())        \n",
    "place_p = 1 #int(input())"
   ]
  },
  {
   "cell_type": "code",
   "execution_count": 70,
   "metadata": {},
   "outputs": [],
   "source": [
    "def what_row(num, N):\n",
    "    if num>N or num<=0:\n",
    "        return -1\n",
    "    \n",
    "    return num//2 + num%2\n",
    "    "
   ]
  },
  {
   "cell_type": "code",
   "execution_count": 71,
   "metadata": {},
   "outputs": [
    {
     "data": {
      "text/plain": [
       "(999999999, 199999999)"
      ]
     },
     "execution_count": 71,
     "metadata": {},
     "output_type": "execute_result"
    }
   ],
   "source": [
    "place_p = (row_p-1)*2 + place_p\n",
    "vas1 = place_p + v\n",
    "vas2 = place_p - v\n",
    "vas1, vas2"
   ]
  },
  {
   "cell_type": "code",
   "execution_count": 72,
   "metadata": {},
   "outputs": [
    {
     "data": {
      "text/plain": [
       "(500000000, 100000000)"
      ]
     },
     "execution_count": 72,
     "metadata": {},
     "output_type": "execute_result"
    }
   ],
   "source": [
    "r1 = what_row(vas1, N)\n",
    "r2 = what_row(vas2, N)\n",
    "r1,r2"
   ]
  },
  {
   "cell_type": "code",
   "execution_count": 75,
   "metadata": {},
   "outputs": [
    {
     "name": "stdout",
     "output_type": "stream",
     "text": [
      "500000000 1\n"
     ]
    }
   ],
   "source": [
    "if r1<0 and r2<0:\n",
    "    print(-1)\n",
    "else:\n",
    "    if r1<0:\n",
    "        print(r2, 2-vas2%2)   \n",
    "    elif r2<0:\n",
    "        print(r1, 2-vas1%2)\n",
    "    else:\n",
    "        if abs(row_p-r1)>abs(row_p-r2):\n",
    "            print(r2, 2-vas2%2)\n",
    "        elif abs(row_p-r1)<=abs(row_p-r2):\n",
    "            print(r1, 2-vas1%2)\n",
    "        "
   ]
  },
  {
   "cell_type": "code",
   "execution_count": null,
   "metadata": {},
   "outputs": [],
   "source": [
    "row_p-r1, "
   ]
  }
 ],
 "metadata": {
  "kernelspec": {
   "display_name": "Python 3",
   "language": "python",
   "name": "python3"
  },
  "language_info": {
   "codemirror_mode": {
    "name": "ipython",
    "version": 3
   },
   "file_extension": ".py",
   "mimetype": "text/x-python",
   "name": "python",
   "nbconvert_exporter": "python",
   "pygments_lexer": "ipython3",
   "version": "3.11.1"
  },
  "orig_nbformat": 4
 },
 "nbformat": 4,
 "nbformat_minor": 2
}
