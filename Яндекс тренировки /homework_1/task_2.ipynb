{
 "cells": [
  {
   "attachments": {},
   "cell_type": "markdown",
   "metadata": {},
   "source": [
    "<img src=\"img/task_2.png\">"
   ]
  },
  {
   "cell_type": "code",
   "execution_count": 97,
   "metadata": {},
   "outputs": [],
   "source": [
    "# ввод \n",
    "m = list(map(int, input().split()))\n",
    "N = m[0]\n",
    "\n",
    "# важно !\n",
    "start = m[1]\n",
    "finish = m[2]\n",
    "if start > finish:\n",
    "    start = m[2]\n",
    "    finish = m[1]"
   ]
  },
  {
   "cell_type": "code",
   "execution_count": 2,
   "metadata": {},
   "outputs": [
    {
     "name": "stdout",
     "output_type": "stream",
     "text": [
      "0\n"
     ]
    }
   ],
   "source": [
    "# test 1\n",
    "N = 3\n",
    "start = 1\n",
    "finish = 3\n",
    "\n",
    "if start == finish:\n",
    "    print(0)\n",
    "else:\n",
    "    if (start-1 + abs(N-finish)) < abs(finish-start)-1:\n",
    "        print(abs(1-start) + abs(N-finish))\n",
    "    else:\n",
    "        print(abs(finish-start)-1)\n",
    "\n"
   ]
  },
  {
   "attachments": {},
   "cell_type": "markdown",
   "metadata": {},
   "source": [
    "### Короткий вариант решения"
   ]
  },
  {
   "cell_type": "code",
   "execution_count": 3,
   "metadata": {},
   "outputs": [
    {
     "name": "stdout",
     "output_type": "stream",
     "text": [
      "0\n"
     ]
    }
   ],
   "source": [
    "dist1 = start-1 + abs(N-finish)\n",
    "dist2 = abs(finish-start)-1\n",
    "print(min(dist1,dist2))"
   ]
  },
  {
   "attachments": {},
   "cell_type": "markdown",
   "metadata": {},
   "source": [
    "### Хороший вариант решения"
   ]
  },
  {
   "cell_type": "code",
   "execution_count": 4,
   "metadata": {},
   "outputs": [
    {
     "name": "stdout",
     "output_type": "stream",
     "text": [
      "0\n"
     ]
    }
   ],
   "source": [
    "dist1 = abs(finish-start)-1\n",
    "dist2 = N-2-dist1\n",
    "print(min(dist1,dist2))"
   ]
  }
 ],
 "metadata": {
  "kernelspec": {
   "display_name": "Python 3",
   "language": "python",
   "name": "python3"
  },
  "language_info": {
   "codemirror_mode": {
    "name": "ipython",
    "version": 3
   },
   "file_extension": ".py",
   "mimetype": "text/x-python",
   "name": "python",
   "nbconvert_exporter": "python",
   "pygments_lexer": "ipython3",
   "version": "3.8.13"
  },
  "orig_nbformat": 4
 },
 "nbformat": 4,
 "nbformat_minor": 2
}
